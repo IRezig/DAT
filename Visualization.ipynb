{
 "cells": [
  {
   "cell_type": "code",
   "execution_count": 1,
   "metadata": {},
   "outputs": [],
   "source": [
    "import pandas as pd\n",
    "import numpy as np\n",
    "import seaborn as sns"
   ]
  },
  {
   "cell_type": "code",
   "execution_count": 2,
   "metadata": {},
   "outputs": [],
   "source": [
    "data = pd.read_csv('/Users/rezigibtissam/Downloads/KaDo.csv')"
   ]
  },
  {
   "cell_type": "code",
   "execution_count": 3,
   "metadata": {},
   "outputs": [],
   "source": [
    "# understanding Data"
   ]
  },
  {
   "cell_type": "code",
   "execution_count": 4,
   "metadata": {
    "scrolled": false
   },
   "outputs": [
    {
     "data": {
      "text/html": [
       "<div>\n",
       "<style scoped>\n",
       "    .dataframe tbody tr th:only-of-type {\n",
       "        vertical-align: middle;\n",
       "    }\n",
       "\n",
       "    .dataframe tbody tr th {\n",
       "        vertical-align: top;\n",
       "    }\n",
       "\n",
       "    .dataframe thead th {\n",
       "        text-align: right;\n",
       "    }\n",
       "</style>\n",
       "<table border=\"1\" class=\"dataframe\">\n",
       "  <thead>\n",
       "    <tr style=\"text-align: right;\">\n",
       "      <th></th>\n",
       "      <th>TICKET_ID</th>\n",
       "      <th>MOIS_VENTE</th>\n",
       "      <th>PRIX_NET</th>\n",
       "      <th>FAMILLE</th>\n",
       "      <th>UNIVERS</th>\n",
       "      <th>MAILLE</th>\n",
       "      <th>LIBELLE</th>\n",
       "      <th>CLI_ID</th>\n",
       "    </tr>\n",
       "  </thead>\n",
       "  <tbody>\n",
       "    <tr>\n",
       "      <th>0</th>\n",
       "      <td>35592159</td>\n",
       "      <td>10</td>\n",
       "      <td>1.67</td>\n",
       "      <td>HYGIENE</td>\n",
       "      <td>HYG_DOUCHE JARDINMONDE</td>\n",
       "      <td>HYG_JDM</td>\n",
       "      <td>GD JDM4 PAMPLEMOUSSE FL 200ML</td>\n",
       "      <td>1490281</td>\n",
       "    </tr>\n",
       "    <tr>\n",
       "      <th>1</th>\n",
       "      <td>35592159</td>\n",
       "      <td>10</td>\n",
       "      <td>1.66</td>\n",
       "      <td>HYGIENE</td>\n",
       "      <td>HYG_DOUCHE JARDINMONDE</td>\n",
       "      <td>HYG_JDM</td>\n",
       "      <td>GD JDM4 PAMPLEMOUSSE FL 200ML</td>\n",
       "      <td>1490281</td>\n",
       "    </tr>\n",
       "    <tr>\n",
       "      <th>2</th>\n",
       "      <td>35592159</td>\n",
       "      <td>10</td>\n",
       "      <td>7.45</td>\n",
       "      <td>SOINS DU VISAGE</td>\n",
       "      <td>VIS_CJOUR Jeunes Specifique</td>\n",
       "      <td>VIS_JEUNE_ET_LEVRE</td>\n",
       "      <td>CR JR PARF BIO.SPE AC.SENT.50ML</td>\n",
       "      <td>1490281</td>\n",
       "    </tr>\n",
       "    <tr>\n",
       "      <th>3</th>\n",
       "      <td>35592159</td>\n",
       "      <td>10</td>\n",
       "      <td>5.95</td>\n",
       "      <td>SOINS DU VISAGE</td>\n",
       "      <td>VIS_DEMAQ AAAR</td>\n",
       "      <td>VIS_AAAR_DEMAQLOTION</td>\n",
       "      <td>EAU MICELLAIRE 3 THES FL200ML</td>\n",
       "      <td>1490281</td>\n",
       "    </tr>\n",
       "    <tr>\n",
       "      <th>4</th>\n",
       "      <td>35592159</td>\n",
       "      <td>10</td>\n",
       "      <td>1.67</td>\n",
       "      <td>HYGIENE</td>\n",
       "      <td>HYG_DOUCHE JARDINMONDE</td>\n",
       "      <td>HYG_JDM</td>\n",
       "      <td>GD JDM4 TIARE FL 200ML</td>\n",
       "      <td>1490281</td>\n",
       "    </tr>\n",
       "  </tbody>\n",
       "</table>\n",
       "</div>"
      ],
      "text/plain": [
       "   TICKET_ID  MOIS_VENTE  PRIX_NET          FAMILLE  \\\n",
       "0   35592159          10      1.67          HYGIENE   \n",
       "1   35592159          10      1.66          HYGIENE   \n",
       "2   35592159          10      7.45  SOINS DU VISAGE   \n",
       "3   35592159          10      5.95  SOINS DU VISAGE   \n",
       "4   35592159          10      1.67          HYGIENE   \n",
       "\n",
       "                       UNIVERS                MAILLE  \\\n",
       "0       HYG_DOUCHE JARDINMONDE               HYG_JDM   \n",
       "1       HYG_DOUCHE JARDINMONDE               HYG_JDM   \n",
       "2  VIS_CJOUR Jeunes Specifique    VIS_JEUNE_ET_LEVRE   \n",
       "3               VIS_DEMAQ AAAR  VIS_AAAR_DEMAQLOTION   \n",
       "4       HYG_DOUCHE JARDINMONDE               HYG_JDM   \n",
       "\n",
       "                           LIBELLE   CLI_ID  \n",
       "0    GD JDM4 PAMPLEMOUSSE FL 200ML  1490281  \n",
       "1    GD JDM4 PAMPLEMOUSSE FL 200ML  1490281  \n",
       "2  CR JR PARF BIO.SPE AC.SENT.50ML  1490281  \n",
       "3    EAU MICELLAIRE 3 THES FL200ML  1490281  \n",
       "4           GD JDM4 TIARE FL 200ML  1490281  "
      ]
     },
     "execution_count": 4,
     "metadata": {},
     "output_type": "execute_result"
    }
   ],
   "source": [
    "# the Header of my dataset\n",
    "data.head()"
   ]
  },
  {
   "cell_type": "code",
   "execution_count": 5,
   "metadata": {
    "scrolled": false
   },
   "outputs": [
    {
     "data": {
      "text/html": [
       "<div>\n",
       "<style scoped>\n",
       "    .dataframe tbody tr th:only-of-type {\n",
       "        vertical-align: middle;\n",
       "    }\n",
       "\n",
       "    .dataframe tbody tr th {\n",
       "        vertical-align: top;\n",
       "    }\n",
       "\n",
       "    .dataframe thead th {\n",
       "        text-align: right;\n",
       "    }\n",
       "</style>\n",
       "<table border=\"1\" class=\"dataframe\">\n",
       "  <thead>\n",
       "    <tr style=\"text-align: right;\">\n",
       "      <th></th>\n",
       "      <th>TICKET_ID</th>\n",
       "      <th>MOIS_VENTE</th>\n",
       "      <th>PRIX_NET</th>\n",
       "      <th>FAMILLE</th>\n",
       "      <th>UNIVERS</th>\n",
       "      <th>MAILLE</th>\n",
       "      <th>LIBELLE</th>\n",
       "      <th>CLI_ID</th>\n",
       "    </tr>\n",
       "  </thead>\n",
       "  <tbody>\n",
       "    <tr>\n",
       "      <th>7245517</th>\n",
       "      <td>35448190</td>\n",
       "      <td>9</td>\n",
       "      <td>2.50</td>\n",
       "      <td>SOINS DU CORPS</td>\n",
       "      <td>CORPS_SOIN DES MAINS</td>\n",
       "      <td>CORPS_HYDRA_NOURRI_ET_SOINS</td>\n",
       "      <td>SVC CR MAINS ET ONGLES T75ml</td>\n",
       "      <td>997385337</td>\n",
       "    </tr>\n",
       "    <tr>\n",
       "      <th>7245518</th>\n",
       "      <td>35448190</td>\n",
       "      <td>9</td>\n",
       "      <td>3.00</td>\n",
       "      <td>HYGIENE</td>\n",
       "      <td>HYG_DOUCHE JARDINMONDE</td>\n",
       "      <td>HYG_JDM</td>\n",
       "      <td>GD JDM4 LAVANDIN DE PROVENCE 200ML</td>\n",
       "      <td>997385337</td>\n",
       "    </tr>\n",
       "    <tr>\n",
       "      <th>7245519</th>\n",
       "      <td>36105678</td>\n",
       "      <td>12</td>\n",
       "      <td>7.90</td>\n",
       "      <td>MAQUILLAGE</td>\n",
       "      <td>MAQ_YEUX Crayons</td>\n",
       "      <td>MAQ_YEUX_CLASSIQUE</td>\n",
       "      <td>CRAYON REGARD PRUNE CN3 1.3G</td>\n",
       "      <td>997385337</td>\n",
       "    </tr>\n",
       "    <tr>\n",
       "      <th>7245520</th>\n",
       "      <td>36105678</td>\n",
       "      <td>12</td>\n",
       "      <td>11.45</td>\n",
       "      <td>MAQUILLAGE</td>\n",
       "      <td>MAQ_YEUX Mascara Elixir</td>\n",
       "      <td>MAQ_YEUX_MASCA_HG</td>\n",
       "      <td>MASCARA SOIN NOIR01 2014 CN3 9ML</td>\n",
       "      <td>997385337</td>\n",
       "    </tr>\n",
       "    <tr>\n",
       "      <th>7245521</th>\n",
       "      <td>36105678</td>\n",
       "      <td>12</td>\n",
       "      <td>4.45</td>\n",
       "      <td>MAQUILLAGE</td>\n",
       "      <td>MAQ_ONG Vernis CN</td>\n",
       "      <td>MAQ_ONGLES</td>\n",
       "      <td>VAO BRIL CERISE NOIRE113 ETE14 CN3 5,5ML</td>\n",
       "      <td>997385337</td>\n",
       "    </tr>\n",
       "  </tbody>\n",
       "</table>\n",
       "</div>"
      ],
      "text/plain": [
       "         TICKET_ID  MOIS_VENTE  PRIX_NET         FAMILLE  \\\n",
       "7245517   35448190           9      2.50  SOINS DU CORPS   \n",
       "7245518   35448190           9      3.00         HYGIENE   \n",
       "7245519   36105678          12      7.90      MAQUILLAGE   \n",
       "7245520   36105678          12     11.45      MAQUILLAGE   \n",
       "7245521   36105678          12      4.45      MAQUILLAGE   \n",
       "\n",
       "                         UNIVERS                       MAILLE  \\\n",
       "7245517     CORPS_SOIN DES MAINS  CORPS_HYDRA_NOURRI_ET_SOINS   \n",
       "7245518   HYG_DOUCHE JARDINMONDE                      HYG_JDM   \n",
       "7245519         MAQ_YEUX Crayons           MAQ_YEUX_CLASSIQUE   \n",
       "7245520  MAQ_YEUX Mascara Elixir            MAQ_YEUX_MASCA_HG   \n",
       "7245521        MAQ_ONG Vernis CN                   MAQ_ONGLES   \n",
       "\n",
       "                                          LIBELLE     CLI_ID  \n",
       "7245517              SVC CR MAINS ET ONGLES T75ml  997385337  \n",
       "7245518        GD JDM4 LAVANDIN DE PROVENCE 200ML  997385337  \n",
       "7245519              CRAYON REGARD PRUNE CN3 1.3G  997385337  \n",
       "7245520          MASCARA SOIN NOIR01 2014 CN3 9ML  997385337  \n",
       "7245521  VAO BRIL CERISE NOIRE113 ETE14 CN3 5,5ML  997385337  "
      ]
     },
     "execution_count": 5,
     "metadata": {},
     "output_type": "execute_result"
    }
   ],
   "source": [
    "# the Tail Of The dataset\n",
    "data.tail()"
   ]
  },
  {
   "cell_type": "code",
   "execution_count": 6,
   "metadata": {
    "scrolled": false
   },
   "outputs": [
    {
     "data": {
      "text/plain": [
       "(7245522, 8)"
      ]
     },
     "execution_count": 6,
     "metadata": {},
     "output_type": "execute_result"
    }
   ],
   "source": [
    "# the Shape Of The dataset\n",
    "data.shape"
   ]
  },
  {
   "cell_type": "code",
   "execution_count": 7,
   "metadata": {},
   "outputs": [
    {
     "data": {
      "text/html": [
       "<div>\n",
       "<style scoped>\n",
       "    .dataframe tbody tr th:only-of-type {\n",
       "        vertical-align: middle;\n",
       "    }\n",
       "\n",
       "    .dataframe tbody tr th {\n",
       "        vertical-align: top;\n",
       "    }\n",
       "\n",
       "    .dataframe thead th {\n",
       "        text-align: right;\n",
       "    }\n",
       "</style>\n",
       "<table border=\"1\" class=\"dataframe\">\n",
       "  <thead>\n",
       "    <tr style=\"text-align: right;\">\n",
       "      <th></th>\n",
       "      <th>TICKET_ID</th>\n",
       "      <th>MOIS_VENTE</th>\n",
       "      <th>PRIX_NET</th>\n",
       "      <th>CLI_ID</th>\n",
       "    </tr>\n",
       "  </thead>\n",
       "  <tbody>\n",
       "    <tr>\n",
       "      <th>count</th>\n",
       "      <td>7.245522e+06</td>\n",
       "      <td>7.245522e+06</td>\n",
       "      <td>7.245522e+06</td>\n",
       "      <td>7.245522e+06</td>\n",
       "    </tr>\n",
       "    <tr>\n",
       "      <th>mean</th>\n",
       "      <td>3.475690e+07</td>\n",
       "      <td>6.840279e+00</td>\n",
       "      <td>5.970084e+00</td>\n",
       "      <td>9.790625e+08</td>\n",
       "    </tr>\n",
       "    <tr>\n",
       "      <th>std</th>\n",
       "      <td>1.055553e+06</td>\n",
       "      <td>3.573327e+00</td>\n",
       "      <td>5.885542e+00</td>\n",
       "      <td>1.775563e+07</td>\n",
       "    </tr>\n",
       "    <tr>\n",
       "      <th>min</th>\n",
       "      <td>3.293145e+07</td>\n",
       "      <td>1.000000e+00</td>\n",
       "      <td>1.000000e-02</td>\n",
       "      <td>1.490281e+06</td>\n",
       "    </tr>\n",
       "    <tr>\n",
       "      <th>25%</th>\n",
       "      <td>3.384854e+07</td>\n",
       "      <td>4.000000e+00</td>\n",
       "      <td>1.950000e+00</td>\n",
       "      <td>9.719890e+08</td>\n",
       "    </tr>\n",
       "    <tr>\n",
       "      <th>50%</th>\n",
       "      <td>3.474804e+07</td>\n",
       "      <td>7.000000e+00</td>\n",
       "      <td>4.250000e+00</td>\n",
       "      <td>9.848729e+08</td>\n",
       "    </tr>\n",
       "    <tr>\n",
       "      <th>75%</th>\n",
       "      <td>3.570151e+07</td>\n",
       "      <td>1.000000e+01</td>\n",
       "      <td>7.450000e+00</td>\n",
       "      <td>9.911363e+08</td>\n",
       "    </tr>\n",
       "    <tr>\n",
       "      <th>max</th>\n",
       "      <td>3.652986e+07</td>\n",
       "      <td>1.200000e+01</td>\n",
       "      <td>1.575000e+03</td>\n",
       "      <td>9.973853e+08</td>\n",
       "    </tr>\n",
       "  </tbody>\n",
       "</table>\n",
       "</div>"
      ],
      "text/plain": [
       "          TICKET_ID    MOIS_VENTE      PRIX_NET        CLI_ID\n",
       "count  7.245522e+06  7.245522e+06  7.245522e+06  7.245522e+06\n",
       "mean   3.475690e+07  6.840279e+00  5.970084e+00  9.790625e+08\n",
       "std    1.055553e+06  3.573327e+00  5.885542e+00  1.775563e+07\n",
       "min    3.293145e+07  1.000000e+00  1.000000e-02  1.490281e+06\n",
       "25%    3.384854e+07  4.000000e+00  1.950000e+00  9.719890e+08\n",
       "50%    3.474804e+07  7.000000e+00  4.250000e+00  9.848729e+08\n",
       "75%    3.570151e+07  1.000000e+01  7.450000e+00  9.911363e+08\n",
       "max    3.652986e+07  1.200000e+01  1.575000e+03  9.973853e+08"
      ]
     },
     "execution_count": 7,
     "metadata": {},
     "output_type": "execute_result"
    }
   ],
   "source": [
    "# A Description of the dataset\n",
    "data.describe()"
   ]
  },
  {
   "cell_type": "code",
   "execution_count": 8,
   "metadata": {},
   "outputs": [
    {
     "data": {
      "text/plain": [
       "Index(['TICKET_ID', 'MOIS_VENTE', 'PRIX_NET', 'FAMILLE', 'UNIVERS', 'MAILLE',\n",
       "       'LIBELLE', 'CLI_ID'],\n",
       "      dtype='object')"
      ]
     },
     "execution_count": 8,
     "metadata": {},
     "output_type": "execute_result"
    }
   ],
   "source": [
    "# GET The Columns\n",
    "data.columns"
   ]
  },
  {
   "cell_type": "code",
   "execution_count": 9,
   "metadata": {},
   "outputs": [
    {
     "data": {
      "text/plain": [
       "TICKET_ID     2734841\n",
       "MOIS_VENTE         12\n",
       "PRIX_NET         3052\n",
       "FAMILLE             9\n",
       "UNIVERS           105\n",
       "MAILLE             34\n",
       "LIBELLE          1484\n",
       "CLI_ID         853514\n",
       "dtype: int64"
      ]
     },
     "execution_count": 9,
     "metadata": {},
     "output_type": "execute_result"
    }
   ],
   "source": [
    "# how many values exist in every column \n",
    "data.nunique()"
   ]
  },
  {
   "cell_type": "code",
   "execution_count": null,
   "metadata": {},
   "outputs": [],
   "source": [
    "# Number of clients 85000\n",
    "data['CLI_ID'].nunique()"
   ]
  },
  {
   "cell_type": "code",
   "execution_count": null,
   "metadata": {},
   "outputs": [],
   "source": [
    "# Number of items 1484\n",
    "data['LIBELLE'].nunique()"
   ]
  },
  {
   "cell_type": "code",
   "execution_count": null,
   "metadata": {},
   "outputs": [],
   "source": [
    "# Number of FAMILLE 9\n",
    "data['FAMILLE'].nunique()"
   ]
  },
  {
   "cell_type": "code",
   "execution_count": null,
   "metadata": {},
   "outputs": [],
   "source": [
    "#Most POPULAR ITtem UNIVERS: HYG_DOUCHE JARDINMONDE\n",
    "data['UNIVERS'].describe()"
   ]
  },
  {
   "cell_type": "code",
   "execution_count": null,
   "metadata": {},
   "outputs": [],
   "source": [
    "#Most POPULAR Item FAMILLE: HYGIENE\n",
    "data['FAMILLE'].describe()"
   ]
  },
  {
   "cell_type": "code",
   "execution_count": null,
   "metadata": {
    "scrolled": true
   },
   "outputs": [],
   "source": [
    "#Most POPULAR Item LIBELLE: DEMAQ EXPRESS PUR BLEUET FL125ML\n",
    "data['LIBELLE'].describe()"
   ]
  },
  {
   "cell_type": "code",
   "execution_count": null,
   "metadata": {},
   "outputs": [],
   "source": [
    "#Most Popular MAILLE\n",
    "data.groupby([\"MAILLE\"]).max()"
   ]
  },
  {
   "cell_type": "code",
   "execution_count": null,
   "metadata": {
    "scrolled": true
   },
   "outputs": [],
   "source": [
    "# GET Null values 0\n",
    "data.isnull().sum()"
   ]
  },
  {
   "cell_type": "code",
   "execution_count": 6,
   "metadata": {},
   "outputs": [
    {
     "data": {
      "text/plain": [
       "5.97008361580822"
      ]
     },
     "execution_count": 6,
     "metadata": {},
     "output_type": "execute_result"
    }
   ],
   "source": [
    "# The Means Price Spend\n",
    "data['PRIX_NET'].mean()"
   ]
  },
  {
   "cell_type": "code",
   "execution_count": 30,
   "metadata": {},
   "outputs": [
    {
     "data": {
      "text/plain": [
       "CLI_ID\n",
       "1490281      3.680000\n",
       "13290776     6.166667\n",
       "20163348     7.450000\n",
       "20200041     3.350000\n",
       "20561854     2.350000\n",
       "               ...   \n",
       "997048745    4.950000\n",
       "997048751    5.760000\n",
       "997048769    7.265000\n",
       "997048777    3.878947\n",
       "997385337    5.193478\n",
       "Name: PRIX_NET, Length: 853514, dtype: float64"
      ]
     },
     "execution_count": 30,
     "metadata": {},
     "output_type": "execute_result"
    }
   ],
   "source": [
    "# Mean price spend by user\n",
    "data.groupby('CLI_ID')['PRIX_NET'].mean()"
   ]
  },
  {
   "cell_type": "code",
   "execution_count": null,
   "metadata": {},
   "outputs": [],
   "source": [
    "#Mean price for items in the categories\n",
    "data.groupby('UNIVERS')['PRIX_NET'].mean()"
   ]
  },
  {
   "cell_type": "code",
   "execution_count": 8,
   "metadata": {},
   "outputs": [
    {
     "data": {
      "text/plain": [
       "43256372.18000003"
      ]
     },
     "execution_count": 8,
     "metadata": {},
     "output_type": "execute_result"
    }
   ],
   "source": [
    "# Sum of prices\n",
    "data['PRIX_NET'].sum()"
   ]
  },
  {
   "cell_type": "code",
   "execution_count": 9,
   "metadata": {},
   "outputs": [
    {
     "data": {
      "text/plain": [
       "5.885541901578067"
      ]
     },
     "execution_count": 9,
     "metadata": {},
     "output_type": "execute_result"
    }
   ],
   "source": [
    "data['PRIX_NET'].std()"
   ]
  },
  {
   "cell_type": "code",
   "execution_count": 34,
   "metadata": {},
   "outputs": [
    {
     "data": {
      "text/plain": [
       "TICKET_ID\n",
       "32931447    2.383333\n",
       "32931448    9.833333\n",
       "32931451    7.500000\n",
       "32931452    3.800000\n",
       "32931453    5.770000\n",
       "              ...   \n",
       "36529861    4.275000\n",
       "36529862    2.950000\n",
       "36529863    8.600000\n",
       "36529864    4.500000\n",
       "36529865    1.725000\n",
       "Name: PRIX_NET, Length: 2734841, dtype: float64"
      ]
     },
     "execution_count": 34,
     "metadata": {},
     "output_type": "execute_result"
    }
   ],
   "source": [
    "#Mean price spend by ticket\n",
    "data.groupby('TICKET_ID')['PRIX_NET'].mean()"
   ]
  },
  {
   "cell_type": "code",
   "execution_count": null,
   "metadata": {},
   "outputs": [],
   "source": [
    "# The std of the clients écart type \n",
    "data.groupby(['CLI_ID']).std() "
   ]
  },
  {
   "cell_type": "code",
   "execution_count": 38,
   "metadata": {},
   "outputs": [
    {
     "data": {
      "text/plain": [
       "MOIS_VENTE\n",
       "1      708973\n",
       "2      415295\n",
       "3      499932\n",
       "4      490481\n",
       "5      531449\n",
       "6      709842\n",
       "7      738972\n",
       "8      549155\n",
       "9      541426\n",
       "10     483343\n",
       "11     548343\n",
       "12    1028311\n",
       "Name: TICKET_ID, dtype: int64"
      ]
     },
     "execution_count": 38,
     "metadata": {},
     "output_type": "execute_result"
    }
   ],
   "source": [
    "# Get the number of TICKET / sails in each month\n",
    "data.groupby('MOIS_VENTE')['TICKET_ID'].count()"
   ]
  },
  {
   "cell_type": "code",
   "execution_count": 39,
   "metadata": {},
   "outputs": [
    {
     "data": {
      "text/html": [
       "<div>\n",
       "<style scoped>\n",
       "    .dataframe tbody tr th:only-of-type {\n",
       "        vertical-align: middle;\n",
       "    }\n",
       "\n",
       "    .dataframe tbody tr th {\n",
       "        vertical-align: top;\n",
       "    }\n",
       "\n",
       "    .dataframe thead th {\n",
       "        text-align: right;\n",
       "    }\n",
       "</style>\n",
       "<table border=\"1\" class=\"dataframe\">\n",
       "  <thead>\n",
       "    <tr style=\"text-align: right;\">\n",
       "      <th></th>\n",
       "      <th>CLI_ID</th>\n",
       "      <th>LIBELLE</th>\n",
       "    </tr>\n",
       "  </thead>\n",
       "  <tbody>\n",
       "    <tr>\n",
       "      <th>0</th>\n",
       "      <td>1490281</td>\n",
       "      <td>GD JDM4 PAMPLEMOUSSE FL 200MLGD JDM4 PAMPLEMOU...</td>\n",
       "    </tr>\n",
       "    <tr>\n",
       "      <th>1</th>\n",
       "      <td>13290776</td>\n",
       "      <td>EDT  UN MATIN AU JARDIN  100ML  MUGUETLAIT VEL...</td>\n",
       "    </tr>\n",
       "    <tr>\n",
       "      <th>2</th>\n",
       "      <td>20163348</td>\n",
       "      <td>RAL BRILLANC GEL/PRALIN CN3 2G</td>\n",
       "    </tr>\n",
       "    <tr>\n",
       "      <th>3</th>\n",
       "      <td>20200041</td>\n",
       "      <td>CR JOUR PX/MIX HYDRA/VEG P50MLCREME MAINS CACA...</td>\n",
       "    </tr>\n",
       "    <tr>\n",
       "      <th>4</th>\n",
       "      <td>20561854</td>\n",
       "      <td>GD AGRUMES FP FL 200 MLLISSAGE AP SHAMPOING LI...</td>\n",
       "    </tr>\n",
       "    <tr>\n",
       "      <th>...</th>\n",
       "      <td>...</td>\n",
       "      <td>...</td>\n",
       "    </tr>\n",
       "    <tr>\n",
       "      <th>853509</th>\n",
       "      <td>997048745</td>\n",
       "      <td>VAO PASTEL PARME 03 MANUC CN3 5.5MLVAO BLANC F...</td>\n",
       "    </tr>\n",
       "    <tr>\n",
       "      <th>853510</th>\n",
       "      <td>997048751</td>\n",
       "      <td>BD COCO PN2 FL400MLCUBE DE BAIN COCO PN2 20GLA...</td>\n",
       "    </tr>\n",
       "    <tr>\n",
       "      <th>853511</th>\n",
       "      <td>997048769</td>\n",
       "      <td>BAUME LEVR SENT FRAMBOISE 4GPORTE MINE NOIR 01...</td>\n",
       "    </tr>\n",
       "    <tr>\n",
       "      <th>853512</th>\n",
       "      <td>997048777</td>\n",
       "      <td>SVC PIEDS SOS P ECHAUF T50MLDEO JDM4 COTON  FL...</td>\n",
       "    </tr>\n",
       "    <tr>\n",
       "      <th>853513</th>\n",
       "      <td>997385337</td>\n",
       "      <td>LAIT 3EN1 PROTECTYL AP SOL FL150LAIT 3EN1 PROT...</td>\n",
       "    </tr>\n",
       "  </tbody>\n",
       "</table>\n",
       "<p>853514 rows × 2 columns</p>\n",
       "</div>"
      ],
      "text/plain": [
       "           CLI_ID                                            LIBELLE\n",
       "0         1490281  GD JDM4 PAMPLEMOUSSE FL 200MLGD JDM4 PAMPLEMOU...\n",
       "1        13290776  EDT  UN MATIN AU JARDIN  100ML  MUGUETLAIT VEL...\n",
       "2        20163348                     RAL BRILLANC GEL/PRALIN CN3 2G\n",
       "3        20200041  CR JOUR PX/MIX HYDRA/VEG P50MLCREME MAINS CACA...\n",
       "4        20561854  GD AGRUMES FP FL 200 MLLISSAGE AP SHAMPOING LI...\n",
       "...           ...                                                ...\n",
       "853509  997048745  VAO PASTEL PARME 03 MANUC CN3 5.5MLVAO BLANC F...\n",
       "853510  997048751  BD COCO PN2 FL400MLCUBE DE BAIN COCO PN2 20GLA...\n",
       "853511  997048769  BAUME LEVR SENT FRAMBOISE 4GPORTE MINE NOIR 01...\n",
       "853512  997048777  SVC PIEDS SOS P ECHAUF T50MLDEO JDM4 COTON  FL...\n",
       "853513  997385337  LAIT 3EN1 PROTECTYL AP SOL FL150LAIT 3EN1 PROT...\n",
       "\n",
       "[853514 rows x 2 columns]"
      ]
     },
     "execution_count": 39,
     "metadata": {},
     "output_type": "execute_result"
    }
   ],
   "source": [
    "data.groupby('CLI_ID', as_index=False).agg({\"LIBELLE\": \"sum\"})"
   ]
  },
  {
   "cell_type": "code",
   "execution_count": null,
   "metadata": {},
   "outputs": [],
   "source": []
  }
 ],
 "metadata": {
  "kernelspec": {
   "display_name": "Python 3",
   "language": "python",
   "name": "python3"
  },
  "language_info": {
   "codemirror_mode": {
    "name": "ipython",
    "version": 3
   },
   "file_extension": ".py",
   "mimetype": "text/x-python",
   "name": "python",
   "nbconvert_exporter": "python",
   "pygments_lexer": "ipython3",
   "version": "3.8.3"
  }
 },
 "nbformat": 4,
 "nbformat_minor": 4
}
