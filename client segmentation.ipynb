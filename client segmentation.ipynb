{
 "cells": [
  {
   "cell_type": "code",
   "execution_count": 1,
   "metadata": {},
   "outputs": [],
   "source": [
    "# Import The Libraries\n",
    "import pandas as pd\n",
    "import matplotlib.pyplot as plt\n",
    "import numpy as np\n",
    "from scipy import stats\n",
    "from sklearn.preprocessing import StandardScaler\n",
    "import seaborn as sns"
   ]
  },
  {
   "cell_type": "code",
   "execution_count": 2,
   "metadata": {},
   "outputs": [],
   "source": [
    "# Import The Dataset\n",
    "df = pd.read_csv('/Users/rezigibtissam/Downloads/KaDo.csv')\n",
    "df = df[df['CLI_ID'].notna()]"
   ]
  },
  {
   "cell_type": "code",
   "execution_count": 3,
   "metadata": {},
   "outputs": [],
   "source": [
    "#Create The RFM Table"
   ]
  },
  {
   "cell_type": "code",
   "execution_count": 4,
   "metadata": {},
   "outputs": [],
   "source": [
    "arg = df.groupby(['CLI_ID', 'LIBELLE']).agg({'LIBELLE':list, 'PRIX_NET': 'sum', 'MOIS_VENTE': 'max'})\n",
    "arg['Quantity'] = arg['LIBELLE'].str.len()\n",
    "del arg['LIBELLE']"
   ]
  },
  {
   "cell_type": "code",
   "execution_count": 5,
   "metadata": {},
   "outputs": [],
   "source": [
    "arg[\"TotalSum\"] = arg[\"Quantity\"] * arg[\"PRIX_NET\"]"
   ]
  },
  {
   "cell_type": "code",
   "execution_count": 6,
   "metadata": {},
   "outputs": [],
   "source": [
    "arg.rename(columns = {'MOIS_VENTE': 'Recency',\n",
    "                        'Quantity': 'Frequency',\n",
    "                        'TotalSum': 'Monetary'}, inplace=True)\n",
    "del arg['PRIX_NET']"
   ]
  },
  {
   "cell_type": "code",
   "execution_count": 7,
   "metadata": {
    "scrolled": true
   },
   "outputs": [
    {
     "data": {
      "text/html": [
       "<div>\n",
       "<style scoped>\n",
       "    .dataframe tbody tr th:only-of-type {\n",
       "        vertical-align: middle;\n",
       "    }\n",
       "\n",
       "    .dataframe tbody tr th {\n",
       "        vertical-align: top;\n",
       "    }\n",
       "\n",
       "    .dataframe thead th {\n",
       "        text-align: right;\n",
       "    }\n",
       "</style>\n",
       "<table border=\"1\" class=\"dataframe\">\n",
       "  <thead>\n",
       "    <tr style=\"text-align: right;\">\n",
       "      <th></th>\n",
       "      <th></th>\n",
       "      <th>Recency</th>\n",
       "      <th>Frequency</th>\n",
       "      <th>Monetary</th>\n",
       "    </tr>\n",
       "    <tr>\n",
       "      <th>CLI_ID</th>\n",
       "      <th>LIBELLE</th>\n",
       "      <th></th>\n",
       "      <th></th>\n",
       "      <th></th>\n",
       "    </tr>\n",
       "  </thead>\n",
       "  <tbody>\n",
       "    <tr>\n",
       "      <th rowspan=\"4\" valign=\"top\">1490281</th>\n",
       "      <th>CR JR PARF BIO.SPE AC.SENT.50ML</th>\n",
       "      <td>10</td>\n",
       "      <td>1</td>\n",
       "      <td>7.45</td>\n",
       "    </tr>\n",
       "    <tr>\n",
       "      <th>EAU MICELLAIRE 3 THES FL200ML</th>\n",
       "      <td>10</td>\n",
       "      <td>1</td>\n",
       "      <td>5.95</td>\n",
       "    </tr>\n",
       "    <tr>\n",
       "      <th>GD JDM4 PAMPLEMOUSSE FL 200ML</th>\n",
       "      <td>10</td>\n",
       "      <td>2</td>\n",
       "      <td>6.66</td>\n",
       "    </tr>\n",
       "    <tr>\n",
       "      <th>GD JDM4 TIARE FL 200ML</th>\n",
       "      <td>10</td>\n",
       "      <td>1</td>\n",
       "      <td>1.67</td>\n",
       "    </tr>\n",
       "    <tr>\n",
       "      <th>13290776</th>\n",
       "      <th>EDT  UN MATIN AU JARDIN  100ML  MUGUET</th>\n",
       "      <td>9</td>\n",
       "      <td>1</td>\n",
       "      <td>13.00</td>\n",
       "    </tr>\n",
       "    <tr>\n",
       "      <th>...</th>\n",
       "      <th>...</th>\n",
       "      <td>...</td>\n",
       "      <td>...</td>\n",
       "      <td>...</td>\n",
       "    </tr>\n",
       "    <tr>\n",
       "      <th rowspan=\"5\" valign=\"top\">997385337</th>\n",
       "      <th>VAO BRIL ROSE SOMPTUEUX 14 CN3 5.5ML</th>\n",
       "      <td>6</td>\n",
       "      <td>1</td>\n",
       "      <td>4.45</td>\n",
       "    </tr>\n",
       "    <tr>\n",
       "      <th>VAO BRIL ROUG/SIENN 33 AX/SO CN3 5,5ML</th>\n",
       "      <td>9</td>\n",
       "      <td>1</td>\n",
       "      <td>4.45</td>\n",
       "    </tr>\n",
       "    <tr>\n",
       "      <th>VAO HIBISCUS ROUGE ETE13 ANI LU4 3ML</th>\n",
       "      <td>5</td>\n",
       "      <td>1</td>\n",
       "      <td>3.90</td>\n",
       "    </tr>\n",
       "    <tr>\n",
       "      <th>VAO PASTEL PARME 03 MANUC CN3 5.5ML</th>\n",
       "      <td>9</td>\n",
       "      <td>1</td>\n",
       "      <td>8.90</td>\n",
       "    </tr>\n",
       "    <tr>\n",
       "      <th>ZERO TRACE SPRAY SPF 15 FL150</th>\n",
       "      <td>9</td>\n",
       "      <td>1</td>\n",
       "      <td>9.95</td>\n",
       "    </tr>\n",
       "  </tbody>\n",
       "</table>\n",
       "<p>5911149 rows × 3 columns</p>\n",
       "</div>"
      ],
      "text/plain": [
       "                                                  Recency  Frequency  Monetary\n",
       "CLI_ID    LIBELLE                                                             \n",
       "1490281   CR JR PARF BIO.SPE AC.SENT.50ML              10          1      7.45\n",
       "          EAU MICELLAIRE 3 THES FL200ML                10          1      5.95\n",
       "          GD JDM4 PAMPLEMOUSSE FL 200ML                10          2      6.66\n",
       "          GD JDM4 TIARE FL 200ML                       10          1      1.67\n",
       "13290776  EDT  UN MATIN AU JARDIN  100ML  MUGUET        9          1     13.00\n",
       "...                                                   ...        ...       ...\n",
       "997385337 VAO BRIL ROSE SOMPTUEUX 14 CN3 5.5ML          6          1      4.45\n",
       "          VAO BRIL ROUG/SIENN 33 AX/SO CN3 5,5ML        9          1      4.45\n",
       "          VAO HIBISCUS ROUGE ETE13 ANI LU4 3ML          5          1      3.90\n",
       "          VAO PASTEL PARME 03 MANUC CN3 5.5ML           9          1      8.90\n",
       "          ZERO TRACE SPRAY SPF 15 FL150                 9          1      9.95\n",
       "\n",
       "[5911149 rows x 3 columns]"
      ]
     },
     "execution_count": 7,
     "metadata": {},
     "output_type": "execute_result"
    }
   ],
   "source": [
    "arg"
   ]
  },
  {
   "cell_type": "code",
   "execution_count": 8,
   "metadata": {},
   "outputs": [
    {
     "data": {
      "text/html": [
       "<div>\n",
       "<style scoped>\n",
       "    .dataframe tbody tr th:only-of-type {\n",
       "        vertical-align: middle;\n",
       "    }\n",
       "\n",
       "    .dataframe tbody tr th {\n",
       "        vertical-align: top;\n",
       "    }\n",
       "\n",
       "    .dataframe thead th {\n",
       "        text-align: right;\n",
       "    }\n",
       "</style>\n",
       "<table border=\"1\" class=\"dataframe\">\n",
       "  <thead>\n",
       "    <tr style=\"text-align: right;\">\n",
       "      <th></th>\n",
       "      <th></th>\n",
       "      <th>Recency</th>\n",
       "      <th>Frequency</th>\n",
       "      <th>Monetary</th>\n",
       "    </tr>\n",
       "    <tr>\n",
       "      <th>CLI_ID</th>\n",
       "      <th>LIBELLE</th>\n",
       "      <th></th>\n",
       "      <th></th>\n",
       "      <th></th>\n",
       "    </tr>\n",
       "  </thead>\n",
       "  <tbody>\n",
       "    <tr>\n",
       "      <th rowspan=\"4\" valign=\"top\">1490281</th>\n",
       "      <th>CR JR PARF BIO.SPE AC.SENT.50ML</th>\n",
       "      <td>10</td>\n",
       "      <td>1</td>\n",
       "      <td>7.45</td>\n",
       "    </tr>\n",
       "    <tr>\n",
       "      <th>EAU MICELLAIRE 3 THES FL200ML</th>\n",
       "      <td>10</td>\n",
       "      <td>1</td>\n",
       "      <td>5.95</td>\n",
       "    </tr>\n",
       "    <tr>\n",
       "      <th>GD JDM4 PAMPLEMOUSSE FL 200ML</th>\n",
       "      <td>10</td>\n",
       "      <td>2</td>\n",
       "      <td>6.66</td>\n",
       "    </tr>\n",
       "    <tr>\n",
       "      <th>GD JDM4 TIARE FL 200ML</th>\n",
       "      <td>10</td>\n",
       "      <td>1</td>\n",
       "      <td>1.67</td>\n",
       "    </tr>\n",
       "    <tr>\n",
       "      <th>13290776</th>\n",
       "      <th>EDT  UN MATIN AU JARDIN  100ML  MUGUET</th>\n",
       "      <td>9</td>\n",
       "      <td>1</td>\n",
       "      <td>13.00</td>\n",
       "    </tr>\n",
       "  </tbody>\n",
       "</table>\n",
       "</div>"
      ],
      "text/plain": [
       "                                                 Recency  Frequency  Monetary\n",
       "CLI_ID   LIBELLE                                                             \n",
       "1490281  CR JR PARF BIO.SPE AC.SENT.50ML              10          1      7.45\n",
       "         EAU MICELLAIRE 3 THES FL200ML                10          1      5.95\n",
       "         GD JDM4 PAMPLEMOUSSE FL 200ML                10          2      6.66\n",
       "         GD JDM4 TIARE FL 200ML                       10          1      1.67\n",
       "13290776 EDT  UN MATIN AU JARDIN  100ML  MUGUET        9          1     13.00"
      ]
     },
     "execution_count": 8,
     "metadata": {},
     "output_type": "execute_result"
    }
   ],
   "source": [
    "arg.head()"
   ]
  },
  {
   "cell_type": "code",
   "execution_count": 9,
   "metadata": {},
   "outputs": [
    {
     "data": {
      "image/png": "[encoded data removed]",
      "text/plain": [
       "<Figure size 432x288 with 1 Axes>"
      ]
     },
     "metadata": {
      "needs_background": "light"
     },
     "output_type": "display_data"
    }
   ],
   "source": [
    "plt.hist(arg['Frequency'], bins=10)\n",
    "plt.show()"
   ]
  },
  {
   "cell_type": "code",
   "execution_count": 10,
   "metadata": {},
   "outputs": [
    {
     "data": {
      "text/html": [
       "<div>\n",
       "<style scoped>\n",
       "    .dataframe tbody tr th:only-of-type {\n",
       "        vertical-align: middle;\n",
       "    }\n",
       "\n",
       "    .dataframe tbody tr th {\n",
       "        vertical-align: top;\n",
       "    }\n",
       "\n",
       "    .dataframe thead th {\n",
       "        text-align: right;\n",
       "    }\n",
       "</style>\n",
       "<table border=\"1\" class=\"dataframe\">\n",
       "  <thead>\n",
       "    <tr style=\"text-align: right;\">\n",
       "      <th></th>\n",
       "      <th>Recency</th>\n",
       "      <th>Frequency</th>\n",
       "      <th>Monetary</th>\n",
       "    </tr>\n",
       "  </thead>\n",
       "  <tbody>\n",
       "    <tr>\n",
       "      <th>5911144</th>\n",
       "      <td>4.387815</td>\n",
       "      <td>0.0</td>\n",
       "      <td>1.644826</td>\n",
       "    </tr>\n",
       "    <tr>\n",
       "      <th>5911145</th>\n",
       "      <td>6.769914</td>\n",
       "      <td>0.0</td>\n",
       "      <td>1.644826</td>\n",
       "    </tr>\n",
       "    <tr>\n",
       "      <th>5911146</th>\n",
       "      <td>3.565543</td>\n",
       "      <td>0.0</td>\n",
       "      <td>1.574061</td>\n",
       "    </tr>\n",
       "    <tr>\n",
       "      <th>5911147</th>\n",
       "      <td>6.769914</td>\n",
       "      <td>0.0</td>\n",
       "      <td>2.072351</td>\n",
       "    </tr>\n",
       "    <tr>\n",
       "      <th>5911148</th>\n",
       "      <td>6.769914</td>\n",
       "      <td>0.0</td>\n",
       "      <td>2.150838</td>\n",
       "    </tr>\n",
       "  </tbody>\n",
       "</table>\n",
       "</div>"
      ],
      "text/plain": [
       "          Recency  Frequency  Monetary\n",
       "5911144  4.387815        0.0  1.644826\n",
       "5911145  6.769914        0.0  1.644826\n",
       "5911146  3.565543        0.0  1.574061\n",
       "5911147  6.769914        0.0  2.072351\n",
       "5911148  6.769914        0.0  2.150838"
      ]
     },
     "execution_count": 10,
     "metadata": {},
     "output_type": "execute_result"
    }
   ],
   "source": [
    "customers_fix = pd.DataFrame()\n",
    "customers_fix[\"Recency\"] = stats.boxcox(arg['Recency'])[0]\n",
    "customers_fix[\"Frequency\"] = stats.boxcox(arg['Frequency'])[0]\n",
    "customers_fix[\"Monetary\"] = pd.Series(np.cbrt(arg['Monetary'])).values\n",
    "customers_fix.tail()"
   ]
  },
  {
   "cell_type": "code",
   "execution_count": 11,
   "metadata": {},
   "outputs": [
    {
     "name": "stdout",
     "output_type": "stream",
     "text": [
      "[ 0.  0. -0.]\n",
      "[1. 1. 1.]\n"
     ]
    }
   ],
   "source": [
    "# Initialize the Object\n",
    "scaler = StandardScaler()\n",
    "# Fit and Transform The Data\n",
    "scaler.fit(customers_fix)\n",
    "customers_normalized = scaler.transform(customers_fix)\n",
    "# Assert that it has mean 0 and variance 1\n",
    "print(customers_normalized.mean(axis = 0).round(2)) # [0. -0. 0.]\n",
    "print(customers_normalized.std(axis = 0).round(2)) # [1. 1. 1.]"
   ]
  },
  {
   "cell_type": "code",
   "execution_count": 12,
   "metadata": {},
   "outputs": [
    {
     "data": {
      "text/plain": [
       "array([[ 0.80763719, -0.40168843,  0.08144337],\n",
       "       [ 0.80763719, -0.40168843, -0.08709141],\n",
       "       [ 0.80763719,  2.48587698, -0.00416512],\n",
       "       ...,\n",
       "       [-0.55667816, -0.40168843, -0.37153532],\n",
       "       [ 0.54272214, -0.40168843,  0.22399736],\n",
       "       [ 0.54272214, -0.40168843,  0.31780112]])"
      ]
     },
     "execution_count": 12,
     "metadata": {},
     "output_type": "execute_result"
    }
   ],
   "source": [
    "customers_normalized"
   ]
  },
  {
   "cell_type": "code",
   "execution_count": 13,
   "metadata": {},
   "outputs": [
    {
     "data": {
      "image/png": "[encoded data removed]",
      "text/plain": [
       "<Figure size 432x288 with 1 Axes>"
      ]
     },
     "metadata": {
      "needs_background": "light"
     },
     "output_type": "display_data"
    }
   ],
   "source": [
    "from sklearn.cluster import KMeans\n",
    "sse = {}\n",
    "for k in range(1, 9):\n",
    "    kmeans = KMeans(n_clusters=k, random_state=42)\n",
    "    kmeans.fit(customers_normalized)\n",
    "    sse[k] = kmeans.inertia_ # SSE to closest cluster centroid\n",
    "plt.title('The Elbow Method')\n",
    "plt.xlabel('k')\n",
    "plt.ylabel('SSE')\n",
    "sns.pointplot(x=list(sse.keys()), y=list(sse.values()))\n",
    "plt.show()"
   ]
  },
  {
   "cell_type": "code",
   "execution_count": 14,
   "metadata": {},
   "outputs": [
    {
     "data": {
      "text/plain": [
       "(5911149,)"
      ]
     },
     "execution_count": 14,
     "metadata": {},
     "output_type": "execute_result"
    }
   ],
   "source": [
    "model = KMeans(n_clusters=3, random_state=42)\n",
    "model.fit(customers_normalized)\n",
    "model.labels_.shape"
   ]
  },
  {
   "cell_type": "code",
   "execution_count": 15,
   "metadata": {},
   "outputs": [
    {
     "data": {
      "text/html": [
       "<div>\n",
       "<style scoped>\n",
       "    .dataframe tbody tr th:only-of-type {\n",
       "        vertical-align: middle;\n",
       "    }\n",
       "\n",
       "    .dataframe tbody tr th {\n",
       "        vertical-align: top;\n",
       "    }\n",
       "\n",
       "    .dataframe thead tr th {\n",
       "        text-align: left;\n",
       "    }\n",
       "\n",
       "    .dataframe thead tr:last-of-type th {\n",
       "        text-align: right;\n",
       "    }\n",
       "</style>\n",
       "<table border=\"1\" class=\"dataframe\">\n",
       "  <thead>\n",
       "    <tr>\n",
       "      <th></th>\n",
       "      <th>Recency</th>\n",
       "      <th>Frequency</th>\n",
       "      <th colspan=\"2\" halign=\"left\">Monetary</th>\n",
       "    </tr>\n",
       "    <tr>\n",
       "      <th></th>\n",
       "      <th>mean</th>\n",
       "      <th>mean</th>\n",
       "      <th>mean</th>\n",
       "      <th>count</th>\n",
       "    </tr>\n",
       "    <tr>\n",
       "      <th>Cluster</th>\n",
       "      <th></th>\n",
       "      <th></th>\n",
       "      <th></th>\n",
       "      <th></th>\n",
       "    </tr>\n",
       "  </thead>\n",
       "  <tbody>\n",
       "    <tr>\n",
       "      <th>0</th>\n",
       "      <td>9.71</td>\n",
       "      <td>1.00</td>\n",
       "      <td>5.66</td>\n",
       "      <td>2742343</td>\n",
       "    </tr>\n",
       "    <tr>\n",
       "      <th>1</th>\n",
       "      <td>8.66</td>\n",
       "      <td>2.62</td>\n",
       "      <td>54.01</td>\n",
       "      <td>821345</td>\n",
       "    </tr>\n",
       "    <tr>\n",
       "      <th>2</th>\n",
       "      <td>3.54</td>\n",
       "      <td>1.00</td>\n",
       "      <td>6.19</td>\n",
       "      <td>2347461</td>\n",
       "    </tr>\n",
       "  </tbody>\n",
       "</table>\n",
       "</div>"
      ],
      "text/plain": [
       "        Recency Frequency Monetary         \n",
       "           mean      mean     mean    count\n",
       "Cluster                                    \n",
       "0          9.71      1.00     5.66  2742343\n",
       "1          8.66      2.62    54.01   821345\n",
       "2          3.54      1.00     6.19  2347461"
      ]
     },
     "execution_count": 15,
     "metadata": {},
     "output_type": "execute_result"
    }
   ],
   "source": [
    "arg[\"Cluster\"] = model.labels_\n",
    "arg.groupby('Cluster').agg({\n",
    "    'Recency':'mean',\n",
    "    'Frequency':'mean',\n",
    "    'Monetary':['mean', 'count']}).round(2)"
   ]
  },
  {
   "cell_type": "code",
   "execution_count": 16,
   "metadata": {},
   "outputs": [
    {
     "data": {
      "text/plain": [
       "<matplotlib.axes._subplots.AxesSubplot at 0x7ff448267e50>"
      ]
     },
     "execution_count": 16,
     "metadata": {},
     "output_type": "execute_result"
    },
    {
     "data": {
      "image/png": "[encoded data removed]",
      "text/plain": [
       "<Figure size 432x288 with 1 Axes>"
      ]
     },
     "metadata": {
      "needs_background": "light"
     },
     "output_type": "display_data"
    }
   ],
   "source": [
    "# Create the dataframe\n",
    "df_normalized = pd.DataFrame(customers_normalized, columns=['Recency', 'Frequency', 'Monetary'])\n",
    "df_normalized['ID'] = arg.index\n",
    "df_normalized['Cluster'] = model.labels_\n",
    "# Melt The Data\n",
    "df_nor_melt = pd.melt(df_normalized.reset_index(),\n",
    "                      id_vars=['ID', 'Cluster'],\n",
    "                      value_vars=['Recency','Frequency','Monetary'],\n",
    "                      var_name='Attribute',\n",
    "                      value_name='Value')\n",
    "df_nor_melt.head()\n",
    "# Visualize it\n",
    "sns.lineplot('Attribute', 'Value', hue='Cluster', data=df_nor_melt)"
   ]
  },
  {
   "cell_type": "code",
   "execution_count": null,
   "metadata": {},
   "outputs": [],
   "source": []
  }
 ],
 "metadata": {
  "kernelspec": {
   "display_name": "Python 3",
   "language": "python",
   "name": "python3"
  },
  "language_info": {
   "codemirror_mode": {
    "name": "ipython",
    "version": 3
   },
   "file_extension": ".py",
   "mimetype": "text/x-python",
   "name": "python",
   "nbconvert_exporter": "python",
   "pygments_lexer": "ipython3",
   "version": "3.8.3"
  }
 },
 "nbformat": 4,
 "nbformat_minor": 4
}
