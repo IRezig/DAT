{
 "cells": [
  {
   "cell_type": "code",
   "execution_count": 2,
   "metadata": {},
   "outputs": [],
   "source": [
    "# Import The Libraries\n",
    "import pandas as pd\n",
    "import matplotlib.pyplot as plt\n",
    "import numpy as np\n",
    "from scipy import stats\n",
    "from sklearn.preprocessing import StandardScaler\n",
    "import seaborn as sns"
   ]
  },
  {
   "cell_type": "code",
   "execution_count": 3,
   "metadata": {},
   "outputs": [],
   "source": [
    "# Import The Dataset\n",
    "df = pd.read_csv('/Users/rezigibtissam/Desktop/KaDomin.csv')\n",
    "df = df[df['CLI_ID'].notna()]"
   ]
  },
  {
   "cell_type": "code",
   "execution_count": 4,
   "metadata": {},
   "outputs": [],
   "source": [
    "#Create The RFM Table"
   ]
  },
  {
   "cell_type": "code",
   "execution_count": 5,
   "metadata": {},
   "outputs": [],
   "source": [
    "arg = df.groupby(['CLI_ID', 'LIBELLE']).agg({'LIBELLE':list, 'PRIX_NET': 'sum', 'MOIS_VENTE': 'max'})\n",
    "arg['Quantity'] = arg['LIBELLE'].str.len()\n",
    "del arg['LIBELLE']"
   ]
  },
  {
   "cell_type": "code",
   "execution_count": 6,
   "metadata": {},
   "outputs": [],
   "source": [
    "arg[\"TotalSum\"] = arg[\"Quantity\"] * arg[\"PRIX_NET\"]"
   ]
  },
  {
   "cell_type": "code",
   "execution_count": 7,
   "metadata": {},
   "outputs": [],
   "source": [
    "arg.rename(columns = {'MOIS_VENTE': 'Recency',\n",
    "                            'Quantity': 'Frequency',\n",
    "                            'TotalSum': 'Monetary'}, inplace=True)\n",
    "del arg['PRIX_NET']"
   ]
  },
  {
   "cell_type": "code",
   "execution_count": 8,
   "metadata": {
    "scrolled": true
   },
   "outputs": [
    {
     "data": {
      "text/html": [
       "<div>\n",
       "<style scoped>\n",
       "    .dataframe tbody tr th:only-of-type {\n",
       "        vertical-align: middle;\n",
       "    }\n",
       "\n",
       "    .dataframe tbody tr th {\n",
       "        vertical-align: top;\n",
       "    }\n",
       "\n",
       "    .dataframe thead th {\n",
       "        text-align: right;\n",
       "    }\n",
       "</style>\n",
       "<table border=\"1\" class=\"dataframe\">\n",
       "  <thead>\n",
       "    <tr style=\"text-align: right;\">\n",
       "      <th></th>\n",
       "      <th></th>\n",
       "      <th>Recency</th>\n",
       "      <th>Frequency</th>\n",
       "      <th>Monetary</th>\n",
       "    </tr>\n",
       "    <tr>\n",
       "      <th>CLI_ID</th>\n",
       "      <th>LIBELLE</th>\n",
       "      <th></th>\n",
       "      <th></th>\n",
       "      <th></th>\n",
       "    </tr>\n",
       "  </thead>\n",
       "  <tbody>\n",
       "    <tr>\n",
       "      <th rowspan=\"4\" valign=\"top\">1490281</th>\n",
       "      <th>CR JR PARF BIO.SPE AC.SENT.50ML</th>\n",
       "      <td>10</td>\n",
       "      <td>1</td>\n",
       "      <td>7.45</td>\n",
       "    </tr>\n",
       "    <tr>\n",
       "      <th>EAU MICELLAIRE 3 THES FL200ML</th>\n",
       "      <td>10</td>\n",
       "      <td>1</td>\n",
       "      <td>5.95</td>\n",
       "    </tr>\n",
       "    <tr>\n",
       "      <th>GD JDM4 PAMPLEMOUSSE FL 200ML</th>\n",
       "      <td>10</td>\n",
       "      <td>2</td>\n",
       "      <td>6.66</td>\n",
       "    </tr>\n",
       "    <tr>\n",
       "      <th>GD JDM4 TIARE FL 200ML</th>\n",
       "      <td>10</td>\n",
       "      <td>1</td>\n",
       "      <td>1.67</td>\n",
       "    </tr>\n",
       "    <tr>\n",
       "      <th rowspan=\"5\" valign=\"top\">13290776</th>\n",
       "      <th>EDT  UN MATIN AU JARDIN  100ML  MUGUET</th>\n",
       "      <td>9</td>\n",
       "      <td>1</td>\n",
       "      <td>13.00</td>\n",
       "    </tr>\n",
       "    <tr>\n",
       "      <th>EDT UN MATIN AU JARDIN 100ML LILAS</th>\n",
       "      <td>12</td>\n",
       "      <td>2</td>\n",
       "      <td>43.18</td>\n",
       "    </tr>\n",
       "    <tr>\n",
       "      <th>GD LILAS FP FL200ML</th>\n",
       "      <td>12</td>\n",
       "      <td>3</td>\n",
       "      <td>17.28</td>\n",
       "    </tr>\n",
       "    <tr>\n",
       "      <th>LAIT LILAS FP FL200ML</th>\n",
       "      <td>12</td>\n",
       "      <td>2</td>\n",
       "      <td>19.30</td>\n",
       "    </tr>\n",
       "    <tr>\n",
       "      <th>LAIT VELOUTE COCO PN2 400ML</th>\n",
       "      <td>9</td>\n",
       "      <td>1</td>\n",
       "      <td>5.50</td>\n",
       "    </tr>\n",
       "  </tbody>\n",
       "</table>\n",
       "</div>"
      ],
      "text/plain": [
       "                                                 Recency  Frequency  Monetary\n",
       "CLI_ID   LIBELLE                                                             \n",
       "1490281  CR JR PARF BIO.SPE AC.SENT.50ML              10          1      7.45\n",
       "         EAU MICELLAIRE 3 THES FL200ML                10          1      5.95\n",
       "         GD JDM4 PAMPLEMOUSSE FL 200ML                10          2      6.66\n",
       "         GD JDM4 TIARE FL 200ML                       10          1      1.67\n",
       "13290776 EDT  UN MATIN AU JARDIN  100ML  MUGUET        9          1     13.00\n",
       "         EDT UN MATIN AU JARDIN 100ML LILAS           12          2     43.18\n",
       "         GD LILAS FP FL200ML                          12          3     17.28\n",
       "         LAIT LILAS FP FL200ML                        12          2     19.30\n",
       "         LAIT VELOUTE COCO PN2 400ML                   9          1      5.50"
      ]
     },
     "execution_count": 8,
     "metadata": {},
     "output_type": "execute_result"
    }
   ],
   "source": [
    "arg"
   ]
  },
  {
   "cell_type": "code",
   "execution_count": null,
   "metadata": {},
   "outputs": [],
   "source": []
  },
  {
   "cell_type": "code",
   "execution_count": 9,
   "metadata": {},
   "outputs": [
    {
     "data": {
      "image/png": "[encoded data removed]",
      "text/plain": [
       "<Figure size 432x288 with 1 Axes>"
      ]
     },
     "metadata": {
      "needs_background": "light"
     },
     "output_type": "display_data"
    }
   ],
   "source": [
    "plt.hist(arg['Frequency'], bins=10)\n",
    "plt.show()"
   ]
  },
  {
   "cell_type": "code",
   "execution_count": 11,
   "metadata": {},
   "outputs": [
    {
     "data": {
      "text/html": [
       "<div>\n",
       "<style scoped>\n",
       "    .dataframe tbody tr th:only-of-type {\n",
       "        vertical-align: middle;\n",
       "    }\n",
       "\n",
       "    .dataframe tbody tr th {\n",
       "        vertical-align: top;\n",
       "    }\n",
       "\n",
       "    .dataframe thead th {\n",
       "        text-align: right;\n",
       "    }\n",
       "</style>\n",
       "<table border=\"1\" class=\"dataframe\">\n",
       "  <thead>\n",
       "    <tr style=\"text-align: right;\">\n",
       "      <th></th>\n",
       "      <th>Recency</th>\n",
       "      <th>Frequency</th>\n",
       "      <th>Monetary</th>\n",
       "    </tr>\n",
       "  </thead>\n",
       "  <tbody>\n",
       "    <tr>\n",
       "      <th>4</th>\n",
       "      <td>0.572889</td>\n",
       "      <td>0.000000</td>\n",
       "      <td>2.351335</td>\n",
       "    </tr>\n",
       "    <tr>\n",
       "      <th>5</th>\n",
       "      <td>0.578265</td>\n",
       "      <td>0.471286</td>\n",
       "      <td>3.508280</td>\n",
       "    </tr>\n",
       "    <tr>\n",
       "      <th>6</th>\n",
       "      <td>0.578265</td>\n",
       "      <td>0.611628</td>\n",
       "      <td>2.585322</td>\n",
       "    </tr>\n",
       "    <tr>\n",
       "      <th>7</th>\n",
       "      <td>0.578265</td>\n",
       "      <td>0.471286</td>\n",
       "      <td>2.682373</td>\n",
       "    </tr>\n",
       "    <tr>\n",
       "      <th>8</th>\n",
       "      <td>0.572889</td>\n",
       "      <td>0.000000</td>\n",
       "      <td>1.765174</td>\n",
       "    </tr>\n",
       "  </tbody>\n",
       "</table>\n",
       "</div>"
      ],
      "text/plain": [
       "    Recency  Frequency  Monetary\n",
       "4  0.572889   0.000000  2.351335\n",
       "5  0.578265   0.471286  3.508280\n",
       "6  0.578265   0.611628  2.585322\n",
       "7  0.578265   0.471286  2.682373\n",
       "8  0.572889   0.000000  1.765174"
      ]
     },
     "execution_count": 11,
     "metadata": {},
     "output_type": "execute_result"
    }
   ],
   "source": [
    "customers_fix = pd.DataFrame()\n",
    "customers_fix[\"Recency\"] = stats.boxcox(arg['Recency'])[0]\n",
    "customers_fix[\"Frequency\"] = stats.boxcox(arg['Frequency'])[0]\n",
    "customers_fix[\"Monetary\"] = pd.Series(np.cbrt(arg['Monetary'])).values\n",
    "customers_fix.tail()"
   ]
  },
  {
   "cell_type": "code",
   "execution_count": 12,
   "metadata": {},
   "outputs": [
    {
     "name": "stdout",
     "output_type": "stream",
     "text": [
      "[-0.  0.  0.]\n",
      "[1. 1. 1.]\n"
     ]
    }
   ],
   "source": [
    "# Initialize the Object\n",
    "scaler = StandardScaler()\n",
    "# Fit and Transform The Data\n",
    "scaler.fit(customers_fix)\n",
    "customers_normalized = scaler.transform(customers_fix)\n",
    "# Assert that it has mean 0 and variance 1\n",
    "print(customers_normalized.mean(axis = 0).round(2)) # [0. -0. 0.]\n",
    "print(customers_normalized.std(axis = 0).round(2)) # [1. 1. 1.]"
   ]
  },
  {
   "cell_type": "code",
   "execution_count": 15,
   "metadata": {},
   "outputs": [
    {
     "data": {
      "text/plain": [
       "array([[-0.2602543 , -0.88305407, -0.37502666],\n",
       "       [-0.2602543 , -0.88305407, -0.59662906],\n",
       "       [-0.2602543 ,  0.9661512 , -0.48759124],\n",
       "       [-0.2602543 , -0.88305407, -1.57980502],\n",
       "       [-1.38982604, -0.88305407,  0.25083063],\n",
       "       [ 1.27355643,  0.9661512 ,  2.06894371],\n",
       "       [ 1.27355643,  1.51681677,  0.61853584],\n",
       "       [ 1.27355643,  0.9661512 ,  0.77104925],\n",
       "       [-1.38982604, -0.88305407, -0.67030744]])"
      ]
     },
     "execution_count": 15,
     "metadata": {},
     "output_type": "execute_result"
    }
   ],
   "source": [
    "customers_normalized"
   ]
  },
  {
   "cell_type": "code",
   "execution_count": 16,
   "metadata": {},
   "outputs": [
    {
     "data": {
      "image/png": "[encoded data removed]",
      "text/plain": [
       "<Figure size 432x288 with 1 Axes>"
      ]
     },
     "metadata": {
      "needs_background": "light"
     },
     "output_type": "display_data"
    }
   ],
   "source": [
    "from sklearn.cluster import KMeans\n",
    "sse = {}\n",
    "for k in range(1, 9):\n",
    "    kmeans = KMeans(n_clusters=k, random_state=42)\n",
    "    kmeans.fit(customers_normalized)\n",
    "    sse[k] = kmeans.inertia_ # SSE to closest cluster centroid\n",
    "plt.title('The Elbow Method')\n",
    "plt.xlabel('k')\n",
    "plt.ylabel('SSE')\n",
    "sns.pointplot(x=list(sse.keys()), y=list(sse.values()))\n",
    "plt.show()"
   ]
  },
  {
   "cell_type": "code",
   "execution_count": 18,
   "metadata": {},
   "outputs": [
    {
     "data": {
      "text/plain": [
       "(9,)"
      ]
     },
     "execution_count": 18,
     "metadata": {},
     "output_type": "execute_result"
    }
   ],
   "source": [
    "model = KMeans(n_clusters=3, random_state=42)\n",
    "model.fit(customers_normalized)\n",
    "model.labels_.shape"
   ]
  },
  {
   "cell_type": "code",
   "execution_count": 20,
   "metadata": {},
   "outputs": [
    {
     "data": {
      "text/html": [
       "<div>\n",
       "<style scoped>\n",
       "    .dataframe tbody tr th:only-of-type {\n",
       "        vertical-align: middle;\n",
       "    }\n",
       "\n",
       "    .dataframe tbody tr th {\n",
       "        vertical-align: top;\n",
       "    }\n",
       "\n",
       "    .dataframe thead tr th {\n",
       "        text-align: left;\n",
       "    }\n",
       "\n",
       "    .dataframe thead tr:last-of-type th {\n",
       "        text-align: right;\n",
       "    }\n",
       "</style>\n",
       "<table border=\"1\" class=\"dataframe\">\n",
       "  <thead>\n",
       "    <tr>\n",
       "      <th></th>\n",
       "      <th>Recency</th>\n",
       "      <th>Frequency</th>\n",
       "      <th colspan=\"2\" halign=\"left\">Monetary</th>\n",
       "    </tr>\n",
       "    <tr>\n",
       "      <th></th>\n",
       "      <th>mean</th>\n",
       "      <th>mean</th>\n",
       "      <th>mean</th>\n",
       "      <th>count</th>\n",
       "    </tr>\n",
       "    <tr>\n",
       "      <th>Cluster</th>\n",
       "      <th></th>\n",
       "      <th></th>\n",
       "      <th></th>\n",
       "      <th></th>\n",
       "    </tr>\n",
       "  </thead>\n",
       "  <tbody>\n",
       "    <tr>\n",
       "      <th>0</th>\n",
       "      <td>10.0</td>\n",
       "      <td>2.00</td>\n",
       "      <td>6.66</td>\n",
       "      <td>1</td>\n",
       "    </tr>\n",
       "    <tr>\n",
       "      <th>1</th>\n",
       "      <td>12.0</td>\n",
       "      <td>2.33</td>\n",
       "      <td>26.59</td>\n",
       "      <td>3</td>\n",
       "    </tr>\n",
       "    <tr>\n",
       "      <th>2</th>\n",
       "      <td>9.6</td>\n",
       "      <td>1.00</td>\n",
       "      <td>6.71</td>\n",
       "      <td>5</td>\n",
       "    </tr>\n",
       "  </tbody>\n",
       "</table>\n",
       "</div>"
      ],
      "text/plain": [
       "        Recency Frequency Monetary      \n",
       "           mean      mean     mean count\n",
       "Cluster                                 \n",
       "0          10.0      2.00     6.66     1\n",
       "1          12.0      2.33    26.59     3\n",
       "2           9.6      1.00     6.71     5"
      ]
     },
     "execution_count": 20,
     "metadata": {},
     "output_type": "execute_result"
    }
   ],
   "source": [
    "arg[\"Cluster\"] = model.labels_\n",
    "arg.groupby('Cluster').agg({\n",
    "    'Recency':'mean',\n",
    "    'Frequency':'mean',\n",
    "    'Monetary':['mean', 'count']}).round(2)"
   ]
  },
  {
   "cell_type": "code",
   "execution_count": 21,
   "metadata": {},
   "outputs": [
    {
     "data": {
      "text/plain": [
       "<matplotlib.axes._subplots.AxesSubplot at 0x7f89975bcb50>"
      ]
     },
     "execution_count": 21,
     "metadata": {},
     "output_type": "execute_result"
    },
    {
     "data": {
      "image/png": "[encoded data removed]",
      "text/plain": [
       "<Figure size 432x288 with 1 Axes>"
      ]
     },
     "metadata": {
      "needs_background": "light"
     },
     "output_type": "display_data"
    }
   ],
   "source": [
    "# Create the dataframe\n",
    "df_normalized = pd.DataFrame(customers_normalized, columns=['Recency', 'Frequency', 'Monetary'])\n",
    "df_normalized['ID'] = arg.index\n",
    "df_normalized['Cluster'] = model.labels_\n",
    "# Melt The Data\n",
    "df_nor_melt = pd.melt(df_normalized.reset_index(),\n",
    "                      id_vars=['ID', 'Cluster'],\n",
    "                      value_vars=['Recency','Frequency','Monetary'],\n",
    "                      var_name='Attribute',\n",
    "                      value_name='Value')\n",
    "df_nor_melt.head()\n",
    "# Visualize it\n",
    "sns.lineplot('Attribute', 'Value', hue='Cluster', data=df_nor_melt)"
   ]
  },
  {
   "cell_type": "code",
   "execution_count": null,
   "metadata": {},
   "outputs": [],
   "source": []
  }
 ],
 "metadata": {
  "kernelspec": {
   "display_name": "Python 3",
   "language": "python",
   "name": "python3"
  },
  "language_info": {
   "codemirror_mode": {
    "name": "ipython",
    "version": 3
   },
   "file_extension": ".py",
   "mimetype": "text/x-python",
   "name": "python",
   "nbconvert_exporter": "python",
   "pygments_lexer": "ipython3",
   "version": "3.8.3"
  }
 },
 "nbformat": 4,
 "nbformat_minor": 4
}
